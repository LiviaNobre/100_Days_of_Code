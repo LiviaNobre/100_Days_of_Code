{
 "cells": [
  {
   "cell_type": "markdown",
   "metadata": {},
   "source": [
    "# LESSON :one: - DAY 1 - PRINTING #"
   ]
  },
  {
   "cell_type": "markdown",
   "metadata": {},
   "source": [
    "## Instructions\n",
    "\n",
    "Write a program in main.py that prints the following notes on Python programming into the Output console. \n",
    "Your code should print all three lines.\n",
    "\n",
    "Day 1 - Python Print Function\n",
    "The function is declared like this:\n",
    "print('what to print')"
   ]
  },
  {
   "cell_type": "code",
   "execution_count": 6,
   "metadata": {},
   "outputs": [
    {
     "name": "stdout",
     "output_type": "stream",
     "text": [
      "Day 1 - Python Print Function \n",
      "The function is declared like this: \n",
      "print('what to print')\n"
     ]
    }
   ],
   "source": [
    "print(\"Day 1 - Python Print Function \\nThe function is declared like this: \\nprint('what to print')\")"
   ]
  },
  {
   "cell_type": "markdown",
   "metadata": {},
   "source": [
    "# LESSON :two: - DAY 1 - DEBUGGING PRACTICE"
   ]
  },
  {
   "cell_type": "markdown",
   "metadata": {},
   "source": [
    "## Instructions\n",
    "\n",
    "Look at the code in the code editor on the left. \n",
    "There are errors on all 4 lines of code. \n",
    "Fix the code so that it runs without errors."
   ]
  },
  {
   "cell_type": "code",
   "execution_count": 4,
   "metadata": {},
   "outputs": [
    {
     "name": "stdout",
     "output_type": "stream",
     "text": [
      "Day 1 - String Manipulation\n",
      "String Concatenation is done with the \"+\" sign.\n",
      "e.g. print(\"Hello \" + \"world\")\n",
      "New lines can be created with a backslash and n.\n"
     ]
    }
   ],
   "source": [
    "# Fix the code below 👇\n",
    "print(\"Day 1 - String Manipulation\")\n",
    "print(\"String Concatenation is done with the\",'\"+\"',  \"sign.\")\n",
    "print('e.g. print(\"Hello \" + \"world\")')\n",
    "print(\"New lines can be created with a backslash and n.\")"
   ]
  },
  {
   "cell_type": "markdown",
   "metadata": {},
   "source": [
    "# LESSON :three: - DAY 1 - INPUT FUNCTION"
   ]
  },
  {
   "cell_type": "markdown",
   "metadata": {},
   "source": [
    "## Instructions\n",
    "\n",
    "Try this exercise to understand how tests work with inputs in Auditorium. Write some code that multiples together the two numbers in the input area. When you run the tests, different inputs will replace the ones in the input area and pass the new inputs through your code.\n",
    "\n",
    "### Important\n",
    "\n",
    "Your code has to work for all the different input sets. e.g.\n",
    "print(6)\n",
    "This is not correct, because it only works for one set of inputs. You should only print one number into the output."
   ]
  },
  {
   "cell_type": "code",
   "execution_count": 3,
   "metadata": {},
   "outputs": [
    {
     "name": "stdout",
     "output_type": "stream",
     "text": [
      "12\n"
     ]
    }
   ],
   "source": [
    "num1 = int(input())\n",
    "num2 = int(input())\n",
    "mult = num1 * num2\n",
    "print(mult)"
   ]
  },
  {
   "cell_type": "markdown",
   "metadata": {},
   "source": [
    "# LESSON :four: - DAY 1 - VARIABLES"
   ]
  },
  {
   "cell_type": "markdown",
   "metadata": {},
   "source": [
    "## Instructions\n",
    "\n",
    "This program takes two inputs. The first input is stored in a variable called a. The second input is stored in a variable called b.\n",
    "\n",
    "Write a program that switches the values stored in the variables a and b.\n",
    "\n",
    "### Warning \n",
    "\n",
    "You don't need to print anything. The print statement is already in the template code. However, your program should work for different inputs. e.g. any value of a and b.\n",
    "\n",
    "#### Example Input 1\n",
    "29\n",
    "41\n",
    "#### Example Output 1\n",
    "a: 41\n",
    "b: 29\n",
    "#### Example Input 2\n",
    "Hello\n",
    "World\n",
    "#### Example Output 2\n",
    "a: World\n",
    "b: Hello"
   ]
  },
  {
   "cell_type": "code",
   "execution_count": 2,
   "metadata": {},
   "outputs": [
    {
     "name": "stdout",
     "output_type": "stream",
     "text": [
      "a: 2\n",
      "b: 1\n"
     ]
    }
   ],
   "source": [
    "# There are two variables, a and b from input\n",
    "a = input()\n",
    "b = input()\n",
    "# 🚨 Don't change the code above ☝️\n",
    "####################################\n",
    "# Write your code below this line 👇\n",
    "c = a\n",
    "a = b\n",
    "b = c\n",
    "\n",
    "# 🚨 Don't change the code below 👇\n",
    "print(\"a: \" + a)\n",
    "print(\"b: \" + b)"
   ]
  }
 ],
 "metadata": {
  "kernelspec": {
   "display_name": "Python 3",
   "language": "python",
   "name": "python3"
  },
  "language_info": {
   "codemirror_mode": {
    "name": "ipython",
    "version": 3
   },
   "file_extension": ".py",
   "mimetype": "text/x-python",
   "name": "python",
   "nbconvert_exporter": "python",
   "pygments_lexer": "ipython3",
   "version": "3.9.4"
  }
 },
 "nbformat": 4,
 "nbformat_minor": 2
}
